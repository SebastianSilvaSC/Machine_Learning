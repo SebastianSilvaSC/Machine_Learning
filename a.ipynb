{
 "cells": [
  {
   "cell_type": "code",
   "execution_count": 1,
   "metadata": {},
   "outputs": [],
   "source": [
    "import numpy as np\n",
    "import pandas as pd\n",
    "import matplotlib.pyplot as plt\n",
    "from skimage.transform import resize\n",
    "from skimage.io import imread\n",
    "from sklearn.model_selection import train_test_split\n",
    "from keras.models import Sequential\n",
    "from keras.layers import Dense, Conv2D, MaxPool2D, Flatten\n",
    "from keras.optimizers import SGD\n",
    "from keras.utils import plot_model\n",
    "import multiprocessing as mp\n",
    "import os"
   ]
  },
  {
   "cell_type": "markdown",
   "metadata": {},
   "source": [
    "\n",
    "#Obtener los datos\n",
    "\n",
    "\n",
    "#Preprocesar los datos\n",
    "\n",
    "\n",
    "#Crear el modelo\n",
    "\n",
    "\n",
    "#Entrenar el modelo\n",
    "\n",
    "\n",
    "#Evaluar el modelo\n"
   ]
  },
  {
   "cell_type": "code",
   "execution_count": 5,
   "metadata": {},
   "outputs": [],
   "source": [
    "def load_and_resize_image(img_path, size):\n",
    "    img = imread(img_path)\n",
    "    img_resized = resize(img, size, anti_aliasing=True)\n",
    "    return img_resized\n",
    "\n",
    "df = pd.read_csv('D:/Sebastian/Proyecto/Machine_Learning/Dataset/train.csv')\n",
    "\n",
    "# Verificar si los datos preprocesados ya existen\n",
    "preprocessed_data_path = 'preprocessed_data.npz'\n",
    "if os.path.exists(preprocessed_data_path):\n",
    "    data = np.load(preprocessed_data_path)\n",
    "    X_raw = data['X_raw']\n",
    "    y = data['y']\n",
    "else:\n",
    "    # Cargar y preprocesar las imágenes\n",
    "    X_raw = []\n",
    "    size = (28, 28)\n",
    "    img_paths = [f'D:/Sebastian/Proyecto/Machine_Learning/Dataset/train/train/{row[\"ID\"]}_{row[\"location\"]}.jpg' for _, row in df.iterrows()]\n",
    "\n",
    "    # Usar multiprocessing para cargar y redimensionar las imágenes en paralelo\n",
    "    with mp.Pool(mp.cpu_count()) as pool:\n",
    "        X_raw = pool.starmap(load_and_resize_image, [(img_path, size) for img_path in img_paths])\n",
    "\n",
    "    X_raw = np.array(X_raw) / 255.0\n",
    "    y = df['level'].values\n",
    "\n",
    "    np.savez(preprocessed_data_path, X_raw=X_raw, y=y)\n",
    "\n",
    "X_train, X_test, y_train, y_test = train_test_split(X_raw, y, test_size=0.10, random_state=42, stratify=y)\n",
    "if X_train.ndim == 3:\n",
    "    X_train = X_train[..., None]\n",
    "    X_test = X_test[..., None]\n",
    "    print(X_train.shape, X_test.shape)\n",
    "\n",
    "def show_results(model, log):\n",
    "    loss, acc = model.evaluate(X_test, y_test, batch_size=512, verbose=False)\n",
    "    print(f'Loss     = {loss:.4f}')\n",
    "    print(f'Accuracy = {acc:.4f}')\n",
    "    val_loss = log.history['val_loss']\n",
    "    val_acc = log.history['val_accuracy']\n",
    "    fig, axes = plt.subplots(1, 2, figsize=(14, 4))\n",
    "    ax1, ax2 = axes\n",
    "    ax1.plot(log.history['loss'], label='train')\n",
    "    ax1.plot(val_loss, label='test')\n",
    "    ax1.set_xlabel('epoch')\n",
    "    ax1.set_ylabel('loss')\n",
    "    ax2.plot(log.history['accuracy'], label='train')\n",
    "    ax2.plot(val_acc, label='test')\n",
    "    ax2.set_xlabel('epoch')\n",
    "    ax2.set_ylabel('accuracy')\n",
    "    for ax in axes:\n",
    "        ax.legend()"
   ]
  },
  {
   "cell_type": "code",
   "execution_count": null,
   "metadata": {},
   "outputs": [],
   "source": [
    "#@title Visualizando el `dataset`\n",
    "plt.figure(figsize=(20,10))\n",
    "for i in range(25):\n",
    "    plt.subplot(5,5, i+1)\n",
    "    idx = np.random.choice(X.shape[0], 1)[0]\n",
    "    plt.title('id:{} val:{}'.format(idx, y[idx] ))\n",
    "    plt.imshow(-X[idx], cmap='gray')\n",
    "    plt.axis('off')\n",
    "plt.show()"
   ]
  }
 ],
 "metadata": {
  "kernelspec": {
   "display_name": "Python 3",
   "language": "python",
   "name": "python3"
  },
  "language_info": {
   "codemirror_mode": {
    "name": "ipython",
    "version": 3
   },
   "file_extension": ".py",
   "mimetype": "text/x-python",
   "name": "python",
   "nbconvert_exporter": "python",
   "pygments_lexer": "ipython3",
   "version": "3.12.4"
  }
 },
 "nbformat": 4,
 "nbformat_minor": 2
}
